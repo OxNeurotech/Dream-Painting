{
 "cells": [
  {
   "cell_type": "code",
   "execution_count": 1,
   "metadata": {},
   "outputs": [],
   "source": [
    "import torch\n",
    "import random\n",
    "from sklearn.decomposition import FastICA\n",
    "import numpy as np"
   ]
  },
  {
   "cell_type": "code",
   "execution_count": 2,
   "metadata": {},
   "outputs": [],
   "source": [
    "data = torch.load(\"../data/data.pt\")"
   ]
  },
  {
   "cell_type": "code",
   "execution_count": 3,
   "metadata": {},
   "outputs": [],
   "source": [
    "# Train-Test split\n",
    "indices = list(range(11965))\n",
    "random.shuffle(indices)\n",
    "train_idxs = indices[ : len(indices) // 5 * 4]\n",
    "test_idxs = indices[len(indices) // 5 * 4 : ]"
   ]
  },
  {
   "cell_type": "code",
   "execution_count": null,
   "metadata": {},
   "outputs": [],
   "source": []
  },
  {
   "cell_type": "code",
   "execution_count": 4,
   "metadata": {},
   "outputs": [
    {
     "name": "stdout",
     "output_type": "stream",
     "text": [
      "False\n"
     ]
    }
   ],
   "source": [
    "# generate the data\n",
    "np.random.seed(0)\n",
    "S = np.random.normal(size=(200, 2))\n",
    "A = np.array([[1, 1], [0, 2]])  # mixing matrix\n",
    "X = np.dot(S, A.T)  # mixed signal\n",
    "\n",
    "# train the model\n",
    "ica = FastICA(n_components=2)\n",
    "S_ = ica.fit_transform(X)  # estimated independent sources\n",
    "\n",
    "# compare the estimated sources with the true sources\n",
    "print(np.allclose(S, S_))"
   ]
  },
  {
   "cell_type": "code",
   "execution_count": null,
   "metadata": {},
   "outputs": [],
   "source": []
  }
 ],
 "metadata": {
  "kernelspec": {
   "display_name": "dreampainting",
   "language": "python",
   "name": "dreampainting"
  },
  "language_info": {
   "codemirror_mode": {
    "name": "ipython",
    "version": 3
   },
   "file_extension": ".py",
   "mimetype": "text/x-python",
   "name": "python",
   "nbconvert_exporter": "python",
   "pygments_lexer": "ipython3",
   "version": "3.10.6"
  }
 },
 "nbformat": 4,
 "nbformat_minor": 2
}
